{
 "cells": [
  {
   "cell_type": "markdown",
   "metadata": {},
   "source": [
    "# LISWMC Data Management Interface\n",
    "\n",
    "This notebook provides a central interface for managing data from the Lusaka Integrated Solid Waste Management Company system.\n",
    "\n",
    "## Features\n",
    "\n",
    "1. **Clean Company Data**\n",
    "   - Deduplicate company entries using fuzzy matching\n",
    "   - Interactive review of potential duplicates\n",
    "\n",
    "2. **Clean Vehicle Data**\n",
    "   - Standardize license plates according to Zambian format\n",
    "   - Clear company_id and tare_weight fields for manual association\n",
    "   - Filter out invalid license plates\n",
    "\n",
    "3. **Manage Database**\n",
    "   - Import cleaned data to database\n",
    "   - Clear tables before importing\n",
    "   - Export current database state\n",
    "\n",
    "## Setup & Requirements\n",
    "\n",
    "Run the cell below to install and import required packages."
   ]
  },
  {
   "cell_type": "code",
   "execution_count": null,
   "metadata": {},
   "outputs": [],
   "source": [
    "# Install required packages if needed\n",
    "!pip install --quiet pandas numpy psycopg2-binary sqlalchemy fuzzywuzzy ipywidgets"
   ]
  },
  {
   "cell_type": "code",
   "execution_count": null,
   "metadata": {},
   "outputs": [],
   "source": [
    "# Import common libraries\n",
    "import pandas as pd\n",
    "import numpy as np\n",
    "import ipywidgets as widgets\n",
    "from IPython.display import display, HTML, clear_output\n",
    "import logging\n",
    "from datetime import datetime\n",
    "import json\n",
    "from pathlib import Path\n",
    "import uuid\n",
    "\n",
    "# Configure logging\n",
    "logging.basicConfig(level=logging.INFO, format='%(asctime)s - %(levelname)s - %(message)s')\n",
    "logger = logging.getLogger(__name__)"
   ]
  },
  {
   "cell_type": "markdown",
   "metadata": {},
   "source": [
    "## Interface Selection\n",
    "\n",
    "Choose which module to work with:"
   ]
  },
  {
   "cell_type": "code",
   "execution_count": null,
   "metadata": {},
   "outputs": [],
   "source": [
    "# Create interface selector\n",
    "def create_interface_selector():\n",
    "    # Options\n",
    "    options = [\n",
    "        ('Clean Company Data', 'company'),\n",
    "        ('Clean Vehicle Data', 'vehicle'),\n",
    "        ('Database Management', 'database')\n",
    "    ]\n",
    "    \n",
    "    # Create widget\n",
    "    selector = widgets.Dropdown(\n",
    "        options=options,\n",
    "        description='Select Tool:',\n",
    "        style={'description_width': 'initial'},\n",
    "        layout=widgets.Layout(width='50%')\n",
    "    )\n",
    "    \n",
    "    # Button to launch\n",
    "    launch_btn = widgets.Button(\n",
    "        description='Launch Tool',\n",
    "        button_style='success',\n",
    "        layout=widgets.Layout(width='200px')\n",
    "    )\n",
    "    \n",
    "    # Output area\n",
    "    output = widgets.Output()\n",
    "    \n",
    "    # Handler\n",
    "    def on_launch(b):\n",
    "        with output:\n",
    "            clear_output()\n",
    "            selected = selector.value\n",
    "            \n",
    "            if selected == 'company':\n",
    "                print(\"Launching Company Data Cleaner...\")\n",
    "                display(HTML(\"<h3>Company Data Cleaner</h3>\"))\n",
    "                import company_cleaner\n",
    "                engine, reviewer = company_cleaner.run_optimized_deduplication('extracted_companies.csv')\n",
    "            elif selected == 'vehicle':\n",
    "                print(\"Launching Vehicle License Plate Cleaner...\")\n",
    "                display(HTML(\"<h3>Vehicle License Plate Cleaner</h3>\"))\n",
    "                import vehicle_plate_cleaner\n",
    "                # Options for the user\n",
    "                options = [\n",
    "                    ('Run Batch Cleaning (no interaction)', 'batch'),\n",
    "                    ('Run Interactive Cleaning (with review)', 'interactive')\n",
    "                ]\n",
    "                mode_selector = widgets.RadioButtons(options=options, description='Mode:')\n",
    "                start_btn = widgets.Button(description='Start Cleaning', button_style='success')\n",
    "                \n",
    "                def on_start(b):\n",
    "                    mode = mode_selector.value\n",
    "                    if mode == 'batch':\n",
    "                        import run_batch_clean\n",
    "                        run_batch_clean.main()\n",
    "                    else:\n",
    "                        from run_plate_cleaner import run_license_plate_cleaner\n",
    "                        reviewer = run_license_plate_cleaner('extracted_vehicles.csv')\n",
    "                \n",
    "                start_btn.on_click(on_start)\n",
    "                display(widgets.VBox([mode_selector, start_btn]))\n",
    "            elif selected == 'database':\n",
    "                print(\"Launching Database Manager...\")\n",
    "                display(HTML(\"<h3>Database Manager</h3>\"))\n",
    "                import database_manager\n",
    "                database_manager.run_interface()\n",
    "    \n",
    "    launch_btn.on_click(on_launch)\n",
    "    \n",
    "    # Layout\n",
    "    container = widgets.VBox([\n",
    "        widgets.HBox([selector, launch_btn]),\n",
    "        output\n",
    "    ])\n",
    "    \n",
    "    return container\n",
    "\n",
    "# Display the interface selector\n",
    "display(create_interface_selector())"
   ]
  },
  {
   "cell_type": "markdown",
   "metadata": {},
   "source": [
    "## Company Data Cleaner\n",
    "\n",
    "You can also directly launch the company data cleaner here:"
   ]
  },
  {
   "cell_type": "code",
   "execution_count": null,
   "metadata": {},
   "outputs": [],
   "source": [
    "def launch_company_cleaner():\n",
    "    import company_cleaner\n",
    "    engine, reviewer = company_cleaner.run_optimized_deduplication('extracted_companies.csv')\n",
    "    return engine, reviewer"
   ]
  },
  {
   "cell_type": "code",
   "execution_count": null,
   "metadata": {},
   "outputs": [],
   "source": [
    "# Uncomment to run directly\n",
    "# company_engine, company_reviewer = launch_company_cleaner()"
   ]
  },
  {
   "cell_type": "markdown",
   "metadata": {},
   "source": [
    "## Vehicle Data Cleaner\n",
    "\n",
    "You can also directly launch the vehicle data cleaner here:"
   ]
  },
  {
   "cell_type": "code",
   "execution_count": null,
   "metadata": {},
   "outputs": [],
   "source": [
    "def launch_vehicle_cleaner_batch():\n",
    "    import run_batch_clean\n",
    "    cleaned_df = run_batch_clean.main()\n",
    "    return cleaned_df\n",
    "\n",
    "def launch_vehicle_cleaner_interactive():\n",
    "    from run_plate_cleaner import run_license_plate_cleaner\n",
    "    reviewer = run_license_plate_cleaner('extracted_vehicles.csv')\n",
    "    return reviewer"
   ]
  },
  {
   "cell_type": "code",
   "execution_count": null,
   "metadata": {},
   "outputs": [],
   "source": [
    "# Uncomment to run batch cleaning directly\n",
    "# cleaned_vehicles_df = launch_vehicle_cleaner_batch()"
   ]
  },
  {
   "cell_type": "code",
   "execution_count": null,
   "metadata": {},
   "outputs": [],
   "source": [
    "# Uncomment to run interactive cleaning directly\n",
    "# vehicle_reviewer = launch_vehicle_cleaner_interactive()"
   ]
  },
  {
   "cell_type": "markdown",
   "metadata": {},
   "source": [
    "## Database Manager\n",
    "\n",
    "You can also directly launch the database manager here:"
   ]
  },
  {
   "cell_type": "code",
   "execution_count": null,
   "metadata": {},
   "outputs": [],
   "source": [
    "def launch_database_manager():\n",
    "    import database_manager\n",
    "    database_manager.run_interface()"
   ]
  },
  {
   "cell_type": "code",
   "execution_count": null,
   "metadata": {},
   "outputs": [],
   "source": [
    "# Uncomment to run directly\n",
    "# launch_database_manager()"
   ]
  }
 ],
 "metadata": {
  "kernelspec": {
   "display_name": "Python 3",
   "language": "python",
   "name": "python3"
  },
  "language_info": {
   "codemirror_mode": {
    "name": "ipython",
    "version": 3
   },
   "file_extension": ".py",
   "mimetype": "text/x-python",
   "name": "python",
   "nbconvert_exporter": "python",
   "pygments_lexer": "ipython3",
   "version": "3.8.10"
  }
 },
 "nbformat": 4,
 "nbformat_minor": 4
}